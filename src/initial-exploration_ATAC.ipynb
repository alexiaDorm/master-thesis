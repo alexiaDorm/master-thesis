{
 "cells": [
  {
   "cell_type": "code",
   "execution_count": 72,
   "metadata": {},
   "outputs": [],
   "source": [
    "import pandas as pd\n",
    "import numpy as np\n",
    "import matplotlib.pyplot as plt\n",
    "import anndata\n",
    "import gzip\n",
    "\n",
    "import scanpy as sc\n",
    "import episcanpy.api as epi"
   ]
  },
  {
   "cell_type": "code",
   "execution_count": 17,
   "metadata": {},
   "outputs": [
    {
     "data": {
      "text/html": [
       "<div>\n",
       "<style scoped>\n",
       "    .dataframe tbody tr th:only-of-type {\n",
       "        vertical-align: middle;\n",
       "    }\n",
       "\n",
       "    .dataframe tbody tr th {\n",
       "        vertical-align: top;\n",
       "    }\n",
       "\n",
       "    .dataframe thead th {\n",
       "        text-align: right;\n",
       "    }\n",
       "</style>\n",
       "<table border=\"1\" class=\"dataframe\">\n",
       "  <thead>\n",
       "    <tr style=\"text-align: right;\">\n",
       "      <th></th>\n",
       "      <th>peakID</th>\n",
       "      <th>type</th>\n",
       "      <th>chr</th>\n",
       "      <th>start</th>\n",
       "      <th>end</th>\n",
       "    </tr>\n",
       "  </thead>\n",
       "  <tbody>\n",
       "    <tr>\n",
       "      <th>20720</th>\n",
       "      <td>1:9781-10682</td>\n",
       "      <td>Peaks</td>\n",
       "      <td>1</td>\n",
       "      <td>9781</td>\n",
       "      <td>10682</td>\n",
       "    </tr>\n",
       "    <tr>\n",
       "      <th>20721</th>\n",
       "      <td>1:15771-16661</td>\n",
       "      <td>Peaks</td>\n",
       "      <td>1</td>\n",
       "      <td>15771</td>\n",
       "      <td>16661</td>\n",
       "    </tr>\n",
       "    <tr>\n",
       "      <th>20722</th>\n",
       "      <td>1:28909-29801</td>\n",
       "      <td>Peaks</td>\n",
       "      <td>1</td>\n",
       "      <td>28909</td>\n",
       "      <td>29801</td>\n",
       "    </tr>\n",
       "    <tr>\n",
       "      <th>20723</th>\n",
       "      <td>1:90831-91728</td>\n",
       "      <td>Peaks</td>\n",
       "      <td>1</td>\n",
       "      <td>90831</td>\n",
       "      <td>91728</td>\n",
       "    </tr>\n",
       "    <tr>\n",
       "      <th>20724</th>\n",
       "      <td>1:180669-181501</td>\n",
       "      <td>Peaks</td>\n",
       "      <td>1</td>\n",
       "      <td>180669</td>\n",
       "      <td>181501</td>\n",
       "    </tr>\n",
       "    <tr>\n",
       "      <th>...</th>\n",
       "      <td>...</td>\n",
       "      <td>...</td>\n",
       "      <td>...</td>\n",
       "      <td>...</td>\n",
       "      <td>...</td>\n",
       "    </tr>\n",
       "    <tr>\n",
       "      <th>254547</th>\n",
       "      <td>KI270713.1:21537-22450</td>\n",
       "      <td>Peaks</td>\n",
       "      <td>KI270713.1</td>\n",
       "      <td>21537</td>\n",
       "      <td>22450</td>\n",
       "    </tr>\n",
       "    <tr>\n",
       "      <th>254548</th>\n",
       "      <td>KI270713.1:28463-29334</td>\n",
       "      <td>Peaks</td>\n",
       "      <td>KI270713.1</td>\n",
       "      <td>28463</td>\n",
       "      <td>29334</td>\n",
       "    </tr>\n",
       "    <tr>\n",
       "      <th>254549</th>\n",
       "      <td>KI270713.1:31224-32111</td>\n",
       "      <td>Peaks</td>\n",
       "      <td>KI270713.1</td>\n",
       "      <td>31224</td>\n",
       "      <td>32111</td>\n",
       "    </tr>\n",
       "    <tr>\n",
       "      <th>254550</th>\n",
       "      <td>KI270713.1:35925-36654</td>\n",
       "      <td>Peaks</td>\n",
       "      <td>KI270713.1</td>\n",
       "      <td>35925</td>\n",
       "      <td>36654</td>\n",
       "    </tr>\n",
       "    <tr>\n",
       "      <th>254551</th>\n",
       "      <td>KI270713.1:37034-37951</td>\n",
       "      <td>Peaks</td>\n",
       "      <td>KI270713.1</td>\n",
       "      <td>37034</td>\n",
       "      <td>37951</td>\n",
       "    </tr>\n",
       "  </tbody>\n",
       "</table>\n",
       "<p>233832 rows × 5 columns</p>\n",
       "</div>"
      ],
      "text/plain": [
       "                        peakID   type         chr   start     end\n",
       "20720             1:9781-10682  Peaks           1    9781   10682\n",
       "20721            1:15771-16661  Peaks           1   15771   16661\n",
       "20722            1:28909-29801  Peaks           1   28909   29801\n",
       "20723            1:90831-91728  Peaks           1   90831   91728\n",
       "20724          1:180669-181501  Peaks           1  180669  181501\n",
       "...                        ...    ...         ...     ...     ...\n",
       "254547  KI270713.1:21537-22450  Peaks  KI270713.1   21537   22450\n",
       "254548  KI270713.1:28463-29334  Peaks  KI270713.1   28463   29334\n",
       "254549  KI270713.1:31224-32111  Peaks  KI270713.1   31224   32111\n",
       "254550  KI270713.1:35925-36654  Peaks  KI270713.1   35925   36654\n",
       "254551  KI270713.1:37034-37951  Peaks  KI270713.1   37034   37951\n",
       "\n",
       "[233832 rows x 5 columns]"
      ]
     },
     "execution_count": 17,
     "metadata": {},
     "output_type": "execute_result"
    }
   ],
   "source": [
    "D20_ATAC_feat = pd.read_csv(gzip.open('../data/initial_10x_outputs/filtered_feature_bc_matrix-D20_1/features.tsv.gz'), sep='\\t', header=None, usecols=[0,2,3,4,5], names=['peakID','name2','type','chr','start','end'])\n",
    "D20_ATAC_feat = D20_ATAC_feat[D20_ATAC_feat.type == 'Peaks']\n",
    "\n",
    "D20_ATAC_feat"
   ]
  },
  {
   "cell_type": "markdown",
   "metadata": {},
   "source": [
    "### Load the Peak matrix"
   ]
  },
  {
   "cell_type": "code",
   "execution_count": 34,
   "metadata": {},
   "outputs": [],
   "source": [
    "D20_1 = anndata.read_mtx(\"../data/initial_10x_outputs/filtered_feature_bc_matrix-D20_1/matrix.mtx.gz\")\n",
    "feat_name = pd.read_csv(gzip.open('../data/initial_10x_outputs/filtered_feature_bc_matrix-D20_1/features.tsv.gz'), sep='\\t', header=None, usecols=[0,2,3,4,5], names=['peakID','name2','type','chr','start','end'])\n",
    "barcodes = pd.read_csv(gzip.open('../data/initial_10x_outputs/filtered_feature_bc_matrix-D20_1/barcodes.tsv.gz'), sep='\\t', header=None)\n",
    "barcodes = list(barcodes[0])\n",
    "\n",
    "D20_1.obs_names = feat_name['peakID']\n",
    "D20_1.var_names = barcodes"
   ]
  },
  {
   "cell_type": "code",
   "execution_count": 44,
   "metadata": {},
   "outputs": [
    {
     "data": {
      "text/plain": [
       "View of AnnData object with n_obs × n_vars = 233832 × 11457"
      ]
     },
     "execution_count": 44,
     "metadata": {},
     "output_type": "execute_result"
    }
   ],
   "source": [
    "peak_name = feat_name[feat_name.type == 'Peaks']\n",
    "peak_name = list(peak_name['peakID'])\n",
    "\n",
    "D20_1_ATAC = D20_1[peak_name]\n",
    "D20_1_ATAC"
   ]
  },
  {
   "cell_type": "code",
   "execution_count": 69,
   "metadata": {},
   "outputs": [
    {
     "name": "stdout",
     "output_type": "stream",
     "text": [
      "256.0\n"
     ]
    },
    {
     "name": "stderr",
     "output_type": "stream",
     "text": [
      " ImplicitModificationWarning:/Applications/anaconda3/envs/LeKIra/lib/python3.11/site-packages/episcanpy/preprocessing/_quality_control.py:138: Trying to modify attribute `.X` of view, initializing view as actual.\n"
     ]
    },
    {
     "name": "stdout",
     "output_type": "stream",
     "text": [
      "1.0\n"
     ]
    }
   ],
   "source": [
    "#Binarize the data\n",
    "print(np.max(D20_1_ATAC.X))\n",
    "\n",
    "epi.pp.binarize(D20_1_ATAC)\n",
    "print(np.max(D20_1_ATAC.X))"
   ]
  },
  {
   "cell_type": "code",
   "execution_count": 70,
   "metadata": {},
   "outputs": [
    {
     "data": {
      "text/plain": [
       "AnnData object with n_obs × n_vars = 233832 × 11457"
      ]
     },
     "execution_count": 70,
     "metadata": {},
     "output_type": "execute_result"
    }
   ],
   "source": [
    "D20_1_ATAC"
   ]
  },
  {
   "cell_type": "code",
   "execution_count": 71,
   "metadata": {},
   "outputs": [
    {
     "data": {
      "text/plain": [
       "AnnData object with n_obs × n_vars = 233832 × 11457\n",
       "    obs: 'nb_features'\n",
       "    var: 'n_cells'"
      ]
     },
     "execution_count": 71,
     "metadata": {},
     "output_type": "execute_result"
    }
   ],
   "source": [
    "#Basic filtering cells/genes\n",
    "epi.pp.filter_cells(D20_1_ATAC, min_features=1)\n",
    "epi.pp.filter_features(D20_1_ATAC, min_cells=1)\n",
    "\n",
    "D20_1_ATAC"
   ]
  },
  {
   "cell_type": "code",
   "execution_count": 79,
   "metadata": {},
   "outputs": [
    {
     "data": {
      "image/png": "[encoded data removed]",
      "text/plain": [
       "<Figure size 640x480 with 1 Axes>"
      ]
     },
     "metadata": {},
     "output_type": "display_data"
    },
    {
     "data": {
      "image/png": "[encoded data removed]",
      "text/plain": [
       "<Figure size 640x480 with 1 Axes>"
      ]
     },
     "metadata": {},
     "output_type": "display_data"
    },
    {
     "data": {
      "image/png": "[encoded data removed]",
      "text/plain": [
       "<Figure size 640x480 with 1 Axes>"
      ]
     },
     "metadata": {},
     "output_type": "display_data"
    },
    {
     "data": {
      "image/png": "[encoded data removed]",
      "text/plain": [
       "<Figure size 640x480 with 1 Axes>"
      ]
     },
     "metadata": {},
     "output_type": "display_data"
    }
   ],
   "source": [
    "#Visulazation of nb_features per cell\n",
    "plt.hist(D20_1_ATAC.obs.nb_features, bins=50)\n",
    "plt.title(\"Number of features per cell\")\n",
    "plt.show()\n",
    "\n",
    "plt.hist(np.log10(D20_1_ATAC.obs.nb_features), bins=50)\n",
    "plt.title(\"Number of features per cell (log transform)\")\n",
    "plt.show()\n",
    "\n",
    "#Distribution number cells per peak\n",
    "plt.hist(D20_1_ATAC.var.n_cells, bins=50)\n",
    "plt.title(\"Number of cell per peaks\")\n",
    "plt.show()\n",
    "\n",
    "plt.hist(np.log10(D20_1_ATAC.var.n_cells), bins=50)\n",
    "plt.title(\"Number of cell per peaks (log transform)\")\n",
    "plt.show()\n"
   ]
  },
  {
   "cell_type": "code",
   "execution_count": 106,
   "metadata": {},
   "outputs": [],
   "source": [
    "epi.pp.lazy(D20_1_ATAC)\n",
    "sc.pl.umap(D20_1_ATAC, color=['nb_features'], wspace=0.3)"
   ]
  },
  {
   "cell_type": "markdown",
   "metadata": {},
   "source": [
    "#### Does ovearll chromatin accessibily change overtime???"
   ]
  },
  {
   "cell_type": "code",
   "execution_count": 80,
   "metadata": {},
   "outputs": [
    {
     "name": "stderr",
     "output_type": "stream",
     "text": [
      " ImplicitModificationWarning:/Applications/anaconda3/envs/LeKIra/lib/python3.11/site-packages/episcanpy/preprocessing/_quality_control.py:138: Trying to modify attribute `.X` of view, initializing view as actual.\n"
     ]
    },
    {
     "name": "stdout",
     "output_type": "stream",
     "text": [
      "1.0\n"
     ]
    }
   ],
   "source": [
    "D8_1 = anndata.read_mtx(\"../data/initial_10x_outputs/filtered_feature_bc_matrix-D8_1/matrix.mtx.gz\")\n",
    "feat_name = pd.read_csv(gzip.open('../data/initial_10x_outputs/filtered_feature_bc_matrix-D8_1/features.tsv.gz'), sep='\\t', header=None, usecols=[0,2,3,4,5], names=['peakID','name2','type','chr','start','end'])\n",
    "barcodes = pd.read_csv(gzip.open('../data/initial_10x_outputs/filtered_feature_bc_matrix-D8_1/barcodes.tsv.gz'), sep='\\t', header=None)\n",
    "barcodes = list(barcodes[0])\n",
    "\n",
    "D8_1.obs_names = feat_name['peakID']\n",
    "D8_1.var_names = barcodes\n",
    "\n",
    "#Only keep the ATAC features\n",
    "peak_name = feat_name[feat_name.type == 'Peaks']\n",
    "peak_name = list(peak_name['peakID'])\n",
    "\n",
    "D8_1_ATAC = D8_1[peak_name]\n",
    "\n",
    "#Binarize data\n",
    "epi.pp.binarize(D8_1_ATAC)\n",
    "print(np.max(D8_1_ATAC.X))\n",
    "\n",
    "#Basic filtering cells/genes\n",
    "epi.pp.filter_cells(D8_1_ATAC, min_features=1)\n",
    "epi.pp.filter_features(D8_1_ATAC, min_cells=1)"
   ]
  },
  {
   "cell_type": "code",
   "execution_count": 99,
   "metadata": {},
   "outputs": [
    {
     "name": "stderr",
     "output_type": "stream",
     "text": [
      " ImplicitModificationWarning:/Applications/anaconda3/envs/LeKIra/lib/python3.11/site-packages/episcanpy/preprocessing/_quality_control.py:138: Trying to modify attribute `.X` of view, initializing view as actual.\n"
     ]
    },
    {
     "name": "stdout",
     "output_type": "stream",
     "text": [
      "1.0\n"
     ]
    }
   ],
   "source": [
    "D8_2 = anndata.read_mtx(\"../data/initial_10x_outputs/filtered_feature_bc_matrix-D8_2/matrix.mtx.gz\")\n",
    "feat_name = pd.read_csv(gzip.open('../data/initial_10x_outputs/filtered_feature_bc_matrix-D8_2/features.tsv.gz'), sep='\\t', header=None, usecols=[0,2,3,4,5], names=['peakID','name2','type','chr','start','end'])\n",
    "barcodes = pd.read_csv(gzip.open('../data/initial_10x_outputs/filtered_feature_bc_matrix-D8_2/barcodes.tsv.gz'), sep='\\t', header=None)\n",
    "barcodes = list(barcodes[0])\n",
    "\n",
    "D8_2.obs_names = feat_name['peakID']\n",
    "D8_2.var_names = barcodes\n",
    "\n",
    "#Only keep the ATAC features\n",
    "peak_name = feat_name[feat_name.type == 'Peaks']\n",
    "peak_name = list(peak_name['peakID'])\n",
    "\n",
    "D8_2_ATAC = D8_2[peak_name]\n",
    "\n",
    "#Binarize data\n",
    "epi.pp.binarize(D8_2_ATAC)\n",
    "print(np.max(D8_2_ATAC.X))\n",
    "\n",
    "#Basic filtering cells/genes\n",
    "epi.pp.filter_cells(D8_2_ATAC, min_features=1)\n",
    "epi.pp.filter_features(D8_2_ATAC, min_cells=1)"
   ]
  },
  {
   "cell_type": "code",
   "execution_count": 85,
   "metadata": {},
   "outputs": [
    {
     "name": "stderr",
     "output_type": "stream",
     "text": [
      " ImplicitModificationWarning:/Applications/anaconda3/envs/LeKIra/lib/python3.11/site-packages/episcanpy/preprocessing/_quality_control.py:138: Trying to modify attribute `.X` of view, initializing view as actual.\n"
     ]
    },
    {
     "name": "stdout",
     "output_type": "stream",
     "text": [
      "1.0\n"
     ]
    }
   ],
   "source": [
    "D12_1 = anndata.read_mtx(\"../data/initial_10x_outputs/filtered_feature_bc_matrix-D12_1/matrix.mtx.gz\")\n",
    "feat_name = pd.read_csv(gzip.open('../data/initial_10x_outputs/filtered_feature_bc_matrix-D12_1/features.tsv.gz'), sep='\\t', header=None, usecols=[0,2,3,4,5], names=['peakID','name2','type','chr','start','end'])\n",
    "barcodes = pd.read_csv(gzip.open('../data/initial_10x_outputs/filtered_feature_bc_matrix-D12_1/barcodes.tsv.gz'), sep='\\t', header=None)\n",
    "barcodes = list(barcodes[0])\n",
    "\n",
    "D12_1.obs_names = feat_name['peakID']\n",
    "D12_1.var_names = barcodes\n",
    "\n",
    "#Only keep the ATAC features\n",
    "peak_name = feat_name[feat_name.type == 'Peaks']\n",
    "peak_name = list(peak_name['peakID'])\n",
    "\n",
    "D12_1_ATAC = D12_1[peak_name]\n",
    "\n",
    "#Binarize data\n",
    "epi.pp.binarize(D12_1_ATAC)\n",
    "print(np.max(D12_1_ATAC.X))\n",
    "\n",
    "#Basic filtering cells/genes\n",
    "epi.pp.filter_cells(D12_1_ATAC, min_features=1)\n",
    "epi.pp.filter_features(D12_1_ATAC, min_cells=1)"
   ]
  },
  {
   "cell_type": "code",
   "execution_count": 100,
   "metadata": {},
   "outputs": [
    {
     "name": "stderr",
     "output_type": "stream",
     "text": [
      " ImplicitModificationWarning:/Applications/anaconda3/envs/LeKIra/lib/python3.11/site-packages/episcanpy/preprocessing/_quality_control.py:138: Trying to modify attribute `.X` of view, initializing view as actual.\n"
     ]
    },
    {
     "name": "stdout",
     "output_type": "stream",
     "text": [
      "1.0\n"
     ]
    }
   ],
   "source": [
    "D12_2 = anndata.read_mtx(\"../data/initial_10x_outputs/filtered_feature_bc_matrix-D12_2/matrix.mtx.gz\")\n",
    "feat_name = pd.read_csv(gzip.open('../data/initial_10x_outputs/filtered_feature_bc_matrix-D12_2/features.tsv.gz'), sep='\\t', header=None, usecols=[0,2,3,4,5], names=['peakID','name2','type','chr','start','end'])\n",
    "barcodes = pd.read_csv(gzip.open('../data/initial_10x_outputs/filtered_feature_bc_matrix-D12_2/barcodes.tsv.gz'), sep='\\t', header=None)\n",
    "barcodes = list(barcodes[0])\n",
    "\n",
    "D12_2.obs_names = feat_name['peakID']\n",
    "D12_2.var_names = barcodes\n",
    "\n",
    "#Only keep the ATAC features\n",
    "peak_name = feat_name[feat_name.type == 'Peaks']\n",
    "peak_name = list(peak_name['peakID'])\n",
    "\n",
    "D12_2_ATAC = D12_2[peak_name]\n",
    "\n",
    "#Binarize data\n",
    "epi.pp.binarize(D12_2_ATAC)\n",
    "print(np.max(D12_2_ATAC.X))\n",
    "\n",
    "#Basic filtering cells/genes\n",
    "epi.pp.filter_cells(D12_2_ATAC, min_features=1)\n",
    "epi.pp.filter_features(D12_2_ATAC, min_cells=1)"
   ]
  },
  {
   "cell_type": "code",
   "execution_count": 88,
   "metadata": {},
   "outputs": [
    {
     "name": "stderr",
     "output_type": "stream",
     "text": [
      " ImplicitModificationWarning:/Applications/anaconda3/envs/LeKIra/lib/python3.11/site-packages/episcanpy/preprocessing/_quality_control.py:138: Trying to modify attribute `.X` of view, initializing view as actual.\n"
     ]
    },
    {
     "name": "stdout",
     "output_type": "stream",
     "text": [
      "1.0\n"
     ]
    }
   ],
   "source": [
    "D22_1 = anndata.read_mtx(\"../data/initial_10x_outputs/filtered_feature_bc_matrix-D22_1/matrix.mtx.gz\")\n",
    "feat_name = pd.read_csv(gzip.open('../data/initial_10x_outputs/filtered_feature_bc_matrix-D22_1/features.tsv.gz'), sep='\\t', header=None, usecols=[0,2,3,4,5], names=['peakID','name2','type','chr','start','end'])\n",
    "barcodes = pd.read_csv(gzip.open('../data/initial_10x_outputs/filtered_feature_bc_matrix-D22_1/barcodes.tsv.gz'), sep='\\t', header=None)\n",
    "barcodes = list(barcodes[0])\n",
    "\n",
    "D22_1.obs_names = feat_name['peakID']\n",
    "D22_1.var_names = barcodes\n",
    "\n",
    "#Only keep the ATAC features\n",
    "peak_name = feat_name[feat_name.type == 'Peaks']\n",
    "peak_name = list(peak_name['peakID'])\n",
    "\n",
    "D22_1_ATAC = D22_1[peak_name]\n",
    "\n",
    "#Binarize data\n",
    "epi.pp.binarize(D22_1_ATAC)\n",
    "print(np.max(D22_1_ATAC.X))\n",
    "\n",
    "#Basic filtering cells/genes\n",
    "epi.pp.filter_cells(D22_1_ATAC, min_features=1)\n",
    "epi.pp.filter_features(D22_1_ATAC, min_cells=1)"
   ]
  },
  {
   "cell_type": "markdown",
   "metadata": {},
   "source": [
    "#### What's the overlap of peaks accross timepoints"
   ]
  },
  {
   "cell_type": "code",
   "execution_count": 96,
   "metadata": {},
   "outputs": [
    {
     "name": "stdout",
     "output_type": "stream",
     "text": [
      "8-12 overlap: 64\n",
      "8-20 overlap: 32\n",
      "8-22 overlap: 24\n",
      "12-20 overlap: 41\n",
      "12-22 overlap: 27\n",
      "20-22 overlap: 46\n"
     ]
    }
   ],
   "source": [
    "print('8-12 overlap:', len(D12_1_ATAC.obs_names.intersection(D8_1_ATAC.obs_names)))\n",
    "print('8-20 overlap:', len(D20_1_ATAC.obs_names.intersection(D8_1_ATAC.obs_names)))\n",
    "print('8-22 overlap:', len(D22_1_ATAC.obs_names.intersection(D8_1_ATAC.obs_names)))\n",
    "\n",
    "print('12-20 overlap:', len(D12_1_ATAC.obs_names.intersection(D20_1_ATAC.obs_names)))\n",
    "print('12-22 overlap:', len(D12_1_ATAC.obs_names.intersection(D22_1_ATAC.obs_names)))\n",
    "\n",
    "print('20-22 overlap:', len(D20_1_ATAC.obs_names.intersection(D22_1_ATAC.obs_names)))"
   ]
  },
  {
   "cell_type": "code",
   "execution_count": 101,
   "metadata": {},
   "outputs": [
    {
     "name": "stdout",
     "output_type": "stream",
     "text": [
      "8 replicates overlap: 97\n",
      "12 replicates overlap: 103\n"
     ]
    }
   ],
   "source": [
    "print('8 replicates overlap:', len(D8_1_ATAC.obs_names.intersection(D8_2_ATAC.obs_names)))\n",
    "print('12 replicates overlap:', len(D12_1_ATAC.obs_names.intersection(D12_2_ATAC.obs_names)))"
   ]
  },
  {
   "cell_type": "code",
   "execution_count": 98,
   "metadata": {},
   "outputs": [
    {
     "data": {
      "text/plain": [
       "215933.75"
      ]
     },
     "execution_count": 98,
     "metadata": {},
     "output_type": "execute_result"
    }
   ],
   "source": [
    "np.mean([D8_1_ATAC.n_obs, D12_1_ATAC.n_obs, D20_1_ATAC.n_obs, D22_1_ATAC.n_obs])"
   ]
  }
 ],
 "metadata": {
  "kernelspec": {
   "display_name": "LeKIra",
   "language": "python",
   "name": "python3"
  },
  "language_info": {
   "codemirror_mode": {
    "name": "ipython",
    "version": 3
   },
   "file_extension": ".py",
   "mimetype": "text/x-python",
   "name": "python",
   "nbconvert_exporter": "python",
   "pygments_lexer": "ipython3",
   "version": "3.11.8"
  }
 },
 "nbformat": 4,
 "nbformat_minor": 2
}
