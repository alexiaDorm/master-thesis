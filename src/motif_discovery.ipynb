{
 "cells": [
  {
   "cell_type": "code",
   "execution_count": 1,
   "metadata": {},
   "outputs": [],
   "source": [
    "import numpy as np\n",
    "import pandas as pd\n",
    "import torch\n",
    "import glob\n",
    "import pickle\n",
    "import matplotlib.pyplot as plt\n",
    "\n",
    "from interpretation.interpret import compute_importance_score_c_type, compute_importance_score_bias, visualize_sequence_imp\n",
    "from models.models import CATAC2, CATAC_w_bias\n",
    "\n",
    "device = torch.device(\"cuda:0\" if torch.cuda.is_available() else \"cpu\")"
   ]
  },
  {
   "cell_type": "markdown",
   "metadata": {},
   "source": [
    "# Sample from peak sequences"
   ]
  },
  {
   "cell_type": "code",
   "execution_count": 2,
   "metadata": {},
   "outputs": [],
   "source": [
    "with open('../results/peaks_seq.pkl', 'rb') as file:\n",
    "    seq = pickle.load(file).sequence\n",
    "\n",
    "seq = seq.sample(10000)"
   ]
  },
  {
   "cell_type": "markdown",
   "metadata": {},
   "source": [
    "# Compute importance scores"
   ]
  },
  {
   "cell_type": "code",
   "execution_count": 3,
   "metadata": {},
   "outputs": [
    {
     "ename": "RuntimeError",
     "evalue": "Error(s) in loading state_dict for CATAC_w_bias:\n\tsize mismatch for convlayers.0.0.weight: copying a param with shape torch.Size([64, 11, 21]) from checkpoint, the shape in current model is torch.Size([128, 11, 21]).\n\tsize mismatch for convlayers.0.0.bias: copying a param with shape torch.Size([64]) from checkpoint, the shape in current model is torch.Size([128]).\n\tsize mismatch for convlayers.1.0.weight: copying a param with shape torch.Size([64, 64, 3]) from checkpoint, the shape in current model is torch.Size([128, 128, 3]).\n\tsize mismatch for convlayers.1.0.bias: copying a param with shape torch.Size([64]) from checkpoint, the shape in current model is torch.Size([128]).\n\tsize mismatch for convlayers.2.0.weight: copying a param with shape torch.Size([64, 64, 3]) from checkpoint, the shape in current model is torch.Size([128, 128, 3]).\n\tsize mismatch for convlayers.2.0.bias: copying a param with shape torch.Size([64]) from checkpoint, the shape in current model is torch.Size([128]).\n\tsize mismatch for convlayers.3.0.weight: copying a param with shape torch.Size([64, 64, 3]) from checkpoint, the shape in current model is torch.Size([128, 128, 3]).\n\tsize mismatch for convlayers.3.0.bias: copying a param with shape torch.Size([64]) from checkpoint, the shape in current model is torch.Size([128]).\n\tsize mismatch for convlayers.4.0.weight: copying a param with shape torch.Size([64, 64, 3]) from checkpoint, the shape in current model is torch.Size([128, 128, 3]).\n\tsize mismatch for convlayers.4.0.bias: copying a param with shape torch.Size([64]) from checkpoint, the shape in current model is torch.Size([128]).\n\tsize mismatch for convlayers.5.0.weight: copying a param with shape torch.Size([64, 64, 3]) from checkpoint, the shape in current model is torch.Size([128, 128, 3]).\n\tsize mismatch for convlayers.5.0.bias: copying a param with shape torch.Size([64]) from checkpoint, the shape in current model is torch.Size([128]).\n\tsize mismatch for convlayers.6.0.weight: copying a param with shape torch.Size([64, 64, 3]) from checkpoint, the shape in current model is torch.Size([128, 128, 3]).\n\tsize mismatch for convlayers.6.0.bias: copying a param with shape torch.Size([64]) from checkpoint, the shape in current model is torch.Size([128]).\n\tsize mismatch for convlayers.7.0.weight: copying a param with shape torch.Size([64, 64, 3]) from checkpoint, the shape in current model is torch.Size([128, 128, 3]).\n\tsize mismatch for convlayers.7.0.bias: copying a param with shape torch.Size([64]) from checkpoint, the shape in current model is torch.Size([128]).\n\tsize mismatch for count_heads.0.weight: copying a param with shape torch.Size([1, 65]) from checkpoint, the shape in current model is torch.Size([1, 129]).\n\tsize mismatch for count_heads.1.weight: copying a param with shape torch.Size([1, 65]) from checkpoint, the shape in current model is torch.Size([1, 129]).\n\tsize mismatch for count_heads.2.weight: copying a param with shape torch.Size([1, 65]) from checkpoint, the shape in current model is torch.Size([1, 129]).\n\tsize mismatch for count_heads.3.weight: copying a param with shape torch.Size([1, 65]) from checkpoint, the shape in current model is torch.Size([1, 129]).",
     "output_type": "error",
     "traceback": [
      "\u001b[0;31m---------------------------------------------------------------------------\u001b[0m",
      "\u001b[0;31mRuntimeError\u001b[0m                              Traceback (most recent call last)",
      "Cell \u001b[0;32mIn[3], line 13\u001b[0m\n\u001b[1;32m      8\u001b[0m \u001b[38;5;66;03m#Load the model\u001b[39;00m\n\u001b[1;32m      9\u001b[0m model \u001b[38;5;241m=\u001b[39m CATAC_w_bias(nb_conv\u001b[38;5;241m=\u001b[39m\u001b[38;5;241m8\u001b[39m, nb_filters\u001b[38;5;241m=\u001b[39m\u001b[38;5;241m128\u001b[39m, first_kernel\u001b[38;5;241m=\u001b[39m\u001b[38;5;241m21\u001b[39m, \n\u001b[1;32m     10\u001b[0m                       rest_kernel\u001b[38;5;241m=\u001b[39m\u001b[38;5;241m3\u001b[39m, out_pred_len\u001b[38;5;241m=\u001b[39m\u001b[38;5;241m1024\u001b[39m, \n\u001b[1;32m     11\u001b[0m                       nb_pred\u001b[38;5;241m=\u001b[39m\u001b[38;5;241m4\u001b[39m)\n\u001b[0;32m---> 13\u001b[0m \u001b[43mmodel\u001b[49m\u001b[38;5;241;43m.\u001b[39;49m\u001b[43mload_state_dict\u001b[49m\u001b[43m(\u001b[49m\u001b[43mtorch\u001b[49m\u001b[38;5;241;43m.\u001b[39;49m\u001b[43mload\u001b[49m\u001b[43m(\u001b[49m\u001b[43mpath_model\u001b[49m\u001b[43m,\u001b[49m\u001b[43m \u001b[49m\u001b[43mmap_location\u001b[49m\u001b[38;5;241;43m=\u001b[39;49m\u001b[43mtorch\u001b[49m\u001b[38;5;241;43m.\u001b[39;49m\u001b[43mdevice\u001b[49m\u001b[43m(\u001b[49m\u001b[38;5;124;43m'\u001b[39;49m\u001b[38;5;124;43mcpu\u001b[39;49m\u001b[38;5;124;43m'\u001b[39;49m\u001b[43m)\u001b[49m\u001b[43m)\u001b[49m\u001b[43m)\u001b[49m\n\u001b[1;32m     15\u001b[0m path_model_bias \u001b[38;5;241m=\u001b[39m \u001b[38;5;124m\"\u001b[39m\u001b[38;5;124m../data/Tn5_NN_model.h5\u001b[39m\u001b[38;5;124m\"\u001b[39m\n\u001b[1;32m     17\u001b[0m \u001b[38;5;66;03m#Compute attribution scores\u001b[39;00m\n",
      "File \u001b[0;32m/Applications/anaconda3/envs/LeKira/lib/python3.10/site-packages/torch/nn/modules/module.py:2153\u001b[0m, in \u001b[0;36mModule.load_state_dict\u001b[0;34m(self, state_dict, strict, assign)\u001b[0m\n\u001b[1;32m   2148\u001b[0m         error_msgs\u001b[38;5;241m.\u001b[39minsert(\n\u001b[1;32m   2149\u001b[0m             \u001b[38;5;241m0\u001b[39m, \u001b[38;5;124m'\u001b[39m\u001b[38;5;124mMissing key(s) in state_dict: \u001b[39m\u001b[38;5;132;01m{}\u001b[39;00m\u001b[38;5;124m. \u001b[39m\u001b[38;5;124m'\u001b[39m\u001b[38;5;241m.\u001b[39mformat(\n\u001b[1;32m   2150\u001b[0m                 \u001b[38;5;124m'\u001b[39m\u001b[38;5;124m, \u001b[39m\u001b[38;5;124m'\u001b[39m\u001b[38;5;241m.\u001b[39mjoin(\u001b[38;5;124mf\u001b[39m\u001b[38;5;124m'\u001b[39m\u001b[38;5;124m\"\u001b[39m\u001b[38;5;132;01m{\u001b[39;00mk\u001b[38;5;132;01m}\u001b[39;00m\u001b[38;5;124m\"\u001b[39m\u001b[38;5;124m'\u001b[39m \u001b[38;5;28;01mfor\u001b[39;00m k \u001b[38;5;129;01min\u001b[39;00m missing_keys)))\n\u001b[1;32m   2152\u001b[0m \u001b[38;5;28;01mif\u001b[39;00m \u001b[38;5;28mlen\u001b[39m(error_msgs) \u001b[38;5;241m>\u001b[39m \u001b[38;5;241m0\u001b[39m:\n\u001b[0;32m-> 2153\u001b[0m     \u001b[38;5;28;01mraise\u001b[39;00m \u001b[38;5;167;01mRuntimeError\u001b[39;00m(\u001b[38;5;124m'\u001b[39m\u001b[38;5;124mError(s) in loading state_dict for \u001b[39m\u001b[38;5;132;01m{}\u001b[39;00m\u001b[38;5;124m:\u001b[39m\u001b[38;5;130;01m\\n\u001b[39;00m\u001b[38;5;130;01m\\t\u001b[39;00m\u001b[38;5;132;01m{}\u001b[39;00m\u001b[38;5;124m'\u001b[39m\u001b[38;5;241m.\u001b[39mformat(\n\u001b[1;32m   2154\u001b[0m                        \u001b[38;5;28mself\u001b[39m\u001b[38;5;241m.\u001b[39m\u001b[38;5;18m__class__\u001b[39m\u001b[38;5;241m.\u001b[39m\u001b[38;5;18m__name__\u001b[39m, \u001b[38;5;124m\"\u001b[39m\u001b[38;5;130;01m\\n\u001b[39;00m\u001b[38;5;130;01m\\t\u001b[39;00m\u001b[38;5;124m\"\u001b[39m\u001b[38;5;241m.\u001b[39mjoin(error_msgs)))\n\u001b[1;32m   2155\u001b[0m \u001b[38;5;28;01mreturn\u001b[39;00m _IncompatibleKeys(missing_keys, unexpected_keys)\n",
      "\u001b[0;31mRuntimeError\u001b[0m: Error(s) in loading state_dict for CATAC_w_bias:\n\tsize mismatch for convlayers.0.0.weight: copying a param with shape torch.Size([64, 11, 21]) from checkpoint, the shape in current model is torch.Size([128, 11, 21]).\n\tsize mismatch for convlayers.0.0.bias: copying a param with shape torch.Size([64]) from checkpoint, the shape in current model is torch.Size([128]).\n\tsize mismatch for convlayers.1.0.weight: copying a param with shape torch.Size([64, 64, 3]) from checkpoint, the shape in current model is torch.Size([128, 128, 3]).\n\tsize mismatch for convlayers.1.0.bias: copying a param with shape torch.Size([64]) from checkpoint, the shape in current model is torch.Size([128]).\n\tsize mismatch for convlayers.2.0.weight: copying a param with shape torch.Size([64, 64, 3]) from checkpoint, the shape in current model is torch.Size([128, 128, 3]).\n\tsize mismatch for convlayers.2.0.bias: copying a param with shape torch.Size([64]) from checkpoint, the shape in current model is torch.Size([128]).\n\tsize mismatch for convlayers.3.0.weight: copying a param with shape torch.Size([64, 64, 3]) from checkpoint, the shape in current model is torch.Size([128, 128, 3]).\n\tsize mismatch for convlayers.3.0.bias: copying a param with shape torch.Size([64]) from checkpoint, the shape in current model is torch.Size([128]).\n\tsize mismatch for convlayers.4.0.weight: copying a param with shape torch.Size([64, 64, 3]) from checkpoint, the shape in current model is torch.Size([128, 128, 3]).\n\tsize mismatch for convlayers.4.0.bias: copying a param with shape torch.Size([64]) from checkpoint, the shape in current model is torch.Size([128]).\n\tsize mismatch for convlayers.5.0.weight: copying a param with shape torch.Size([64, 64, 3]) from checkpoint, the shape in current model is torch.Size([128, 128, 3]).\n\tsize mismatch for convlayers.5.0.bias: copying a param with shape torch.Size([64]) from checkpoint, the shape in current model is torch.Size([128]).\n\tsize mismatch for convlayers.6.0.weight: copying a param with shape torch.Size([64, 64, 3]) from checkpoint, the shape in current model is torch.Size([128, 128, 3]).\n\tsize mismatch for convlayers.6.0.bias: copying a param with shape torch.Size([64]) from checkpoint, the shape in current model is torch.Size([128]).\n\tsize mismatch for convlayers.7.0.weight: copying a param with shape torch.Size([64, 64, 3]) from checkpoint, the shape in current model is torch.Size([128, 128, 3]).\n\tsize mismatch for convlayers.7.0.bias: copying a param with shape torch.Size([64]) from checkpoint, the shape in current model is torch.Size([128]).\n\tsize mismatch for count_heads.0.weight: copying a param with shape torch.Size([1, 65]) from checkpoint, the shape in current model is torch.Size([1, 129]).\n\tsize mismatch for count_heads.1.weight: copying a param with shape torch.Size([1, 65]) from checkpoint, the shape in current model is torch.Size([1, 129]).\n\tsize mismatch for count_heads.2.weight: copying a param with shape torch.Size([1, 65]) from checkpoint, the shape in current model is torch.Size([1, 129]).\n\tsize mismatch for count_heads.3.weight: copying a param with shape torch.Size([1, 65]) from checkpoint, the shape in current model is torch.Size([1, 129])."
     ]
    }
   ],
   "source": [
    "path_model = '../results/train_res/MNLL_model.pkl'\n",
    "path_seq = '../results/synthetic_results/synthetic_sequences.pkl'\n",
    "\n",
    "all_c_type = ['Immature', 'Mesenchymal', 'Myoblast', 'Myogenic', 'Neuroblast',\n",
    "       'Neuronal', 'Somite']\n",
    "time_point = [\"D8\", \"D12\", \"D20\", \"D22\"]\n",
    "\n",
    "#Load the model\n",
    "model = CATAC_w_bias(nb_conv=8, nb_filters=64, first_kernel=21, \n",
    "                      rest_kernel=3, out_pred_len=1024, \n",
    "                      nb_pred=4)\n",
    "        \n",
    "model.load_state_dict(torch.load(path_model, map_location=torch.device('cpu')))\n",
    "\n",
    "path_model_bias = \"../data/Tn5_NN_model.h5\"\n",
    "\n",
    "#Compute attribution scores\n",
    "seq, shap_scores, proj_scores = compute_importance_score_bias(model, path_model_bias, seq, device, \"Somite\", all_c_type, 1)"
   ]
  },
  {
   "cell_type": "code",
   "execution_count": null,
   "metadata": {},
   "outputs": [],
   "source": [
    "#Save encoded seq + scores\n",
    "np.savez('../results/encod_seq.npz', seq[:,:4,:])\n",
    "np.savez('../results/seq_scores.npz', shap_scores[:,:4,:], proj_scores[:,:4,:])\n",
    "\n",
    "print(\"Shap scores saved!\")"
   ]
  },
  {
   "cell_type": "code",
   "execution_count": null,
   "metadata": {},
   "outputs": [],
   "source": [
    "seq = np.load('../results/encod_seq.npz')[\"arr_0\"]\n",
    "shap_scores = np.load('../results/seq_scores.npz')\n",
    "proj_scores = shap_scores['arr_1']; shap_scores = shap_scores['arr_0']"
   ]
  },
  {
   "cell_type": "markdown",
   "metadata": {},
   "source": [
    "# Visualize few examples"
   ]
  },
  {
   "cell_type": "code",
   "execution_count": null,
   "metadata": {},
   "outputs": [],
   "source": [
    "visualize_sequence_imp(proj_scores[[73],:4,:] ,0, 4096)\n",
    "visualize_sequence_imp(proj_scores[[1266],:4,:] ,0, 4096)\n",
    "visualize_sequence_imp(proj_scores[[563],:4,:] ,0, 4096)"
   ]
  },
  {
   "cell_type": "markdown",
   "metadata": {},
   "source": [
    "# Use TF-modisco to find TFBS\n",
    "Following tutorial at: https://github.com/jmschrei/tfmodisco-lite/blob/main/examples/ModiscoDemonstration.ipynb"
   ]
  },
  {
   "cell_type": "code",
   "execution_count": null,
   "metadata": {},
   "outputs": [],
   "source": [
    "!modisco motifs -s  ../results/encod_seq.npz -a  ../results/seq_scores.npz -n 2000 -o modisco_results.h5"
   ]
  },
  {
   "cell_type": "code",
   "execution_count": null,
   "metadata": {},
   "outputs": [],
   "source": [
    "!modisco report -i modisco_results.h5 -o report/"
   ]
  },
  {
   "cell_type": "code",
   "execution_count": null,
   "metadata": {},
   "outputs": [],
   "source": [
    "from IPython.display import HTML\n",
    "HTML('report/motifs.html')"
   ]
  },
  {
   "cell_type": "markdown",
   "metadata": {},
   "source": [
    "# Run TOMTOM on modisco results"
   ]
  },
  {
   "cell_type": "code",
   "execution_count": null,
   "metadata": {},
   "outputs": [],
   "source": [
    "!modisco report -i modisco_results.h5 -o report/TOMTOM -s report/TOMTOM -m ../data/JASPAR_motif.txt"
   ]
  },
  {
   "cell_type": "code",
   "execution_count": null,
   "metadata": {},
   "outputs": [],
   "source": [
    "from IPython.display import HTML\n",
    "\n",
    "HTML('report/motifs.html')"
   ]
  }
 ],
 "metadata": {
  "kernelspec": {
   "display_name": "LeKira",
   "language": "python",
   "name": "python3"
  },
  "language_info": {
   "codemirror_mode": {
    "name": "ipython",
    "version": 3
   },
   "file_extension": ".py",
   "mimetype": "text/x-python",
   "name": "python",
   "nbconvert_exporter": "python",
   "pygments_lexer": "ipython3",
   "version": "3.10.12"
  }
 },
 "nbformat": 4,
 "nbformat_minor": 2
}
