{
 "cells": [
  {
   "cell_type": "code",
   "execution_count": null,
   "metadata": {},
   "outputs": [],
   "source": [
    "import numpy as np\n",
    "import pandas as pd\n",
    "import torch\n",
    "import glob\n",
    "import pickle\n",
    "import matplotlib.pyplot as plt\n",
    "\n",
    "from interpretation.interpret import compute_importance_score_c_type, compute_importance_score_bias, visualize_sequence_imp\n",
    "from models.models import CATAC2, CATAC_w_bias\n",
    "\n",
    "device = torch.device(\"cuda:0\" if torch.cuda.is_available() else \"cpu\")"
   ]
  },
  {
   "cell_type": "markdown",
   "metadata": {},
   "source": [
    "# Sample from peak sequences"
   ]
  },
  {
   "cell_type": "code",
   "execution_count": 12,
   "metadata": {},
   "outputs": [],
   "source": [
    "with open('../results/peaks_seq.pkl', 'rb') as file:\n",
    "    seq = pickle.load(file).sequence\n",
    "\n",
    "seq = seq.sample(2000)"
   ]
  },
  {
   "cell_type": "markdown",
   "metadata": {},
   "source": [
    "# Compute importance scores"
   ]
  },
  {
   "cell_type": "code",
   "execution_count": null,
   "metadata": {},
   "outputs": [],
   "source": [
    "\"\"\" path_model = '../results/train_res/wbias_model_1e-3.pkl'\n",
    "path_seq = '../results/synthetic_results/synthetic_sequences.pkl'\n",
    "\n",
    "all_c_type = ['Immature', 'Mesenchymal', 'Myoblast', 'Myogenic', 'Neuroblast',\n",
    "       'Neuronal', 'Somite']\n",
    "time_point = [\"D8\", \"D12\", \"D20\", \"D22\"]\n",
    "\n",
    "#Load the model\n",
    "model = CATAC_w_bias(nb_conv=8, nb_filters=64, first_kernel=21, \n",
    "                      rest_kernel=3, out_pred_len=1024, \n",
    "                      nb_pred=4)\n",
    "        \n",
    "model.load_state_dict(torch.load(path_model, map_location=torch.device('cpu')))\n",
    "\n",
    "path_model_bias = \"../data/Tn5_NN_model.h5\"\n",
    "\n",
    "#Compute attribution scores\n",
    "seq, shap_scores, proj_scores = compute_importance_score_bias(model, path_model_bias, seq, device, \"Somite\", all_c_type, 1) \"\"\""
   ]
  },
  {
   "cell_type": "code",
   "execution_count": null,
   "metadata": {},
   "outputs": [],
   "source": [
    "#Save encoded seq + scores\n",
    "\"\"\" np.savez('../results/encod_seq.npz', seq)\n",
    "np.savez('../results/seq_scores.npz', shap_scores, proj_scores)\n",
    "\n",
    "print(\"Shap scores saved!\") \"\"\""
   ]
  },
  {
   "cell_type": "code",
   "execution_count": null,
   "metadata": {},
   "outputs": [],
   "source": [
    "seq = np.load('../results/encod_seq.npz')[\"arr_0\"][:,:4,:]\n",
    "shap_scores = np.load('../results/seq_scores.npz')\n",
    "proj_scores = shap_scores['arr_1'][:,:4,:]; shap_scores = shap_scores['arr_0'][:,:4,:]"
   ]
  },
  {
   "cell_type": "code",
   "execution_count": null,
   "metadata": {},
   "outputs": [],
   "source": [
    "np.savez('../results/encod_seq.npz', seq)\n",
    "np.savez('../results/seq_scores.npz', shap_scores, proj_scores)\n",
    "\n",
    "print(\"Shap scores saved!\")"
   ]
  },
  {
   "cell_type": "markdown",
   "metadata": {},
   "source": [
    "# Visualize few examples"
   ]
  },
  {
   "cell_type": "code",
   "execution_count": null,
   "metadata": {},
   "outputs": [],
   "source": [
    "visualize_sequence_imp(proj_scores[[73],:4,:] ,0, 4096)\n",
    "visualize_sequence_imp(proj_scores[[1266],:4,:] ,0, 4096)\n",
    "visualize_sequence_imp(proj_scores[[563],:4,:] ,0, 4096)"
   ]
  },
  {
   "cell_type": "markdown",
   "metadata": {},
   "source": [
    "# Use TF-modisco to find TFBS\n",
    "Following tutorial at: https://github.com/jmschrei/tfmodisco-lite/blob/main/examples/ModiscoDemonstration.ipynb"
   ]
  },
  {
   "cell_type": "code",
   "execution_count": null,
   "metadata": {},
   "outputs": [],
   "source": [
    "!modisco motifs -s  ../results/encod_seq.npz -a  ../results/seq_scores.npz -n 2000 -o modisco_results.h5"
   ]
  },
  {
   "cell_type": "code",
   "execution_count": null,
   "metadata": {},
   "outputs": [],
   "source": [
    "!modisco report -i modisco_results.h5 -o report/"
   ]
  },
  {
   "cell_type": "code",
   "execution_count": null,
   "metadata": {},
   "outputs": [],
   "source": [
    "from IPython.display import HTML\n",
    "HTML('report/motifs.html')"
   ]
  },
  {
   "cell_type": "markdown",
   "metadata": {},
   "source": [
    "# Run TOMTOM on modisco results"
   ]
  },
  {
   "cell_type": "code",
   "execution_count": null,
   "metadata": {},
   "outputs": [],
   "source": [
    "\"\"\" %%sh\n",
    "wget --quiet \\\n",
    "https://jaspar.genereg.net/download/data/2022/CORE/JASPAR2022_CORE_vertebrates_non-redundant_pfms_meme.txt \\\n",
    "-O data/JASPAR2022_CORE_vertebrates_non-redundant_pfms_meme.txt \"\"\""
   ]
  },
  {
   "cell_type": "code",
   "execution_count": null,
   "metadata": {},
   "outputs": [],
   "source": [
    "\"\"\" %%sh\n",
    "cd modisco\n",
    "modisco report -i modisco_results.h5 -o report/ -s modisco/report/ -m ../data/JASPAR2022_CORE_vertebrates_non-redundant_pfms_meme.txt \"\"\""
   ]
  },
  {
   "cell_type": "code",
   "execution_count": null,
   "metadata": {},
   "outputs": [],
   "source": [
    "\"\"\" from IPython.display import HTML\n",
    "HTML('ENCSR000EGM/modisco/report/motifs.html') \"\"\""
   ]
  }
 ],
 "metadata": {
  "kernelspec": {
   "display_name": "LeKira",
   "language": "python",
   "name": "python3"
  },
  "language_info": {
   "codemirror_mode": {
    "name": "ipython",
    "version": 3
   },
   "file_extension": ".py",
   "mimetype": "text/x-python",
   "name": "python",
   "nbconvert_exporter": "python",
   "pygments_lexer": "ipython3",
   "version": "3.10.12"
  }
 },
 "nbformat": 4,
 "nbformat_minor": 2
}
