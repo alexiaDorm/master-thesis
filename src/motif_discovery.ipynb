{
 "cells": [
  {
   "cell_type": "code",
   "execution_count": 1,
   "metadata": {},
   "outputs": [],
   "source": [
    "%load_ext autoreload\n",
    "%autoreload 2"
   ]
  },
  {
   "cell_type": "code",
   "execution_count": 2,
   "metadata": {},
   "outputs": [],
   "source": [
    "import numpy as np\n",
    "import pandas as pd\n",
    "import torch\n",
    "import glob\n",
    "import pickle\n",
    "import matplotlib.pyplot as plt\n",
    "\n",
    "from interpretation.interpret import compute_importance_score_c_type, compute_importance_score_bias, visualize_sequence_imp\n",
    "from models.models import CATAC2, CATAC_w_bias\n",
    "\n",
    "device = torch.device(\"cuda:0\" if torch.cuda.is_available() else \"cpu\")"
   ]
  },
  {
   "cell_type": "markdown",
   "metadata": {},
   "source": [
    "# Sample from peak sequences"
   ]
  },
  {
   "cell_type": "code",
   "execution_count": null,
   "metadata": {},
   "outputs": [
    {
     "data": {
      "text/html": [
       "<div>\n",
       "<style scoped>\n",
       "    .dataframe tbody tr th:only-of-type {\n",
       "        vertical-align: middle;\n",
       "    }\n",
       "\n",
       "    .dataframe tbody tr th {\n",
       "        vertical-align: top;\n",
       "    }\n",
       "\n",
       "    .dataframe thead th {\n",
       "        text-align: right;\n",
       "    }\n",
       "</style>\n",
       "<table border=\"1\" class=\"dataframe\">\n",
       "  <thead>\n",
       "    <tr style=\"text-align: right;\">\n",
       "      <th></th>\n",
       "      <th>chr</th>\n",
       "      <th>start</th>\n",
       "      <th>end</th>\n",
       "      <th>middle_peak</th>\n",
       "      <th>sequence</th>\n",
       "      <th>GC_cont</th>\n",
       "    </tr>\n",
       "    <tr>\n",
       "      <th>peakID</th>\n",
       "      <th></th>\n",
       "      <th></th>\n",
       "      <th></th>\n",
       "      <th></th>\n",
       "      <th></th>\n",
       "      <th></th>\n",
       "    </tr>\n",
       "  </thead>\n",
       "  <tbody>\n",
       "    <tr>\n",
       "      <th>1:14154-15100</th>\n",
       "      <td>1</td>\n",
       "      <td>14154</td>\n",
       "      <td>15100</td>\n",
       "      <td>14627</td>\n",
       "      <td>GCCCACCGGCCCCAGGCTCCTGTCTCCCCCCAGGTGTGTGGTGATG...</td>\n",
       "      <td>0.585938</td>\n",
       "    </tr>\n",
       "    <tr>\n",
       "      <th>1:15698-16677</th>\n",
       "      <td>1</td>\n",
       "      <td>15698</td>\n",
       "      <td>16677</td>\n",
       "      <td>16188</td>\n",
       "      <td>GGCCATTAGGCTCTCAGCATGACTATTTTTAGAGACCCCGTGTCTG...</td>\n",
       "      <td>0.599854</td>\n",
       "    </tr>\n",
       "    <tr>\n",
       "      <th>1:17116-17963</th>\n",
       "      <td>1</td>\n",
       "      <td>17116</td>\n",
       "      <td>17963</td>\n",
       "      <td>17540</td>\n",
       "      <td>GGCTGACCATTGCCTTGGACCGCTCTTGGCAGTCGAAGAAGATTCT...</td>\n",
       "      <td>0.597168</td>\n",
       "    </tr>\n",
       "    <tr>\n",
       "      <th>1:28903-29812</th>\n",
       "      <td>1</td>\n",
       "      <td>28903</td>\n",
       "      <td>29812</td>\n",
       "      <td>29358</td>\n",
       "      <td>CACATGCAGCCACTGAGCACTTGAAATGTGGATAGTCTGAATTGAG...</td>\n",
       "      <td>0.489746</td>\n",
       "    </tr>\n",
       "    <tr>\n",
       "      <th>1:180637-181553</th>\n",
       "      <td>1</td>\n",
       "      <td>180637</td>\n",
       "      <td>181553</td>\n",
       "      <td>181095</td>\n",
       "      <td>ATGCTGATGGATTGTCAGCTTCCCAGATGTGCAAGAATCTCTCCTC...</td>\n",
       "      <td>0.537109</td>\n",
       "    </tr>\n",
       "    <tr>\n",
       "      <th>...</th>\n",
       "      <td>...</td>\n",
       "      <td>...</td>\n",
       "      <td>...</td>\n",
       "      <td>...</td>\n",
       "      <td>...</td>\n",
       "      <td>...</td>\n",
       "    </tr>\n",
       "    <tr>\n",
       "      <th>Y:56724332-56725266</th>\n",
       "      <td>Y</td>\n",
       "      <td>56724332</td>\n",
       "      <td>56725266</td>\n",
       "      <td>56724799</td>\n",
       "      <td>ACGGAATGGAATGGAATCCAAAGGAATGGAATAGAATGGAATGGAA...</td>\n",
       "      <td>0.389404</td>\n",
       "    </tr>\n",
       "    <tr>\n",
       "      <th>Y:56727619-56728608</th>\n",
       "      <td>Y</td>\n",
       "      <td>56727619</td>\n",
       "      <td>56728608</td>\n",
       "      <td>56728114</td>\n",
       "      <td>TGGAATGCACTCGAATGCAATGGAGTCGAAACAAATGGACTGGAAT...</td>\n",
       "      <td>0.391602</td>\n",
       "    </tr>\n",
       "    <tr>\n",
       "      <th>Y:56763067-56763979</th>\n",
       "      <td>Y</td>\n",
       "      <td>56763067</td>\n",
       "      <td>56763979</td>\n",
       "      <td>56763523</td>\n",
       "      <td>TGGAAGGGAGTGTAATGCAAGGTTCTCGAAAATAATGGAATCGAAT...</td>\n",
       "      <td>0.393555</td>\n",
       "    </tr>\n",
       "    <tr>\n",
       "      <th>Y:56829118-56830024</th>\n",
       "      <td>Y</td>\n",
       "      <td>56829118</td>\n",
       "      <td>56830024</td>\n",
       "      <td>56829571</td>\n",
       "      <td>TTCCTTTCCTTTCCATTCCATTCCTTTCCATTCCATTCCATGCGAG...</td>\n",
       "      <td>0.435059</td>\n",
       "    </tr>\n",
       "    <tr>\n",
       "      <th>Y:56836309-56837316</th>\n",
       "      <td>Y</td>\n",
       "      <td>56836309</td>\n",
       "      <td>56837316</td>\n",
       "      <td>56836812</td>\n",
       "      <td>CATTGCTTTCCATTGCATTCCATTCCATTCCATTCCACTCCACTCT...</td>\n",
       "      <td>0.474854</td>\n",
       "    </tr>\n",
       "  </tbody>\n",
       "</table>\n",
       "<p>298002 rows × 6 columns</p>\n",
       "</div>"
      ],
      "text/plain": [
       "                    chr     start       end  middle_peak  \\\n",
       "peakID                                                     \n",
       "1:14154-15100         1     14154     15100        14627   \n",
       "1:15698-16677         1     15698     16677        16188   \n",
       "1:17116-17963         1     17116     17963        17540   \n",
       "1:28903-29812         1     28903     29812        29358   \n",
       "1:180637-181553       1    180637    181553       181095   \n",
       "...                  ..       ...       ...          ...   \n",
       "Y:56724332-56725266   Y  56724332  56725266     56724799   \n",
       "Y:56727619-56728608   Y  56727619  56728608     56728114   \n",
       "Y:56763067-56763979   Y  56763067  56763979     56763523   \n",
       "Y:56829118-56830024   Y  56829118  56830024     56829571   \n",
       "Y:56836309-56837316   Y  56836309  56837316     56836812   \n",
       "\n",
       "                                                              sequence  \\\n",
       "peakID                                                                   \n",
       "1:14154-15100        GCCCACCGGCCCCAGGCTCCTGTCTCCCCCCAGGTGTGTGGTGATG...   \n",
       "1:15698-16677        GGCCATTAGGCTCTCAGCATGACTATTTTTAGAGACCCCGTGTCTG...   \n",
       "1:17116-17963        GGCTGACCATTGCCTTGGACCGCTCTTGGCAGTCGAAGAAGATTCT...   \n",
       "1:28903-29812        CACATGCAGCCACTGAGCACTTGAAATGTGGATAGTCTGAATTGAG...   \n",
       "1:180637-181553      ATGCTGATGGATTGTCAGCTTCCCAGATGTGCAAGAATCTCTCCTC...   \n",
       "...                                                                ...   \n",
       "Y:56724332-56725266  ACGGAATGGAATGGAATCCAAAGGAATGGAATAGAATGGAATGGAA...   \n",
       "Y:56727619-56728608  TGGAATGCACTCGAATGCAATGGAGTCGAAACAAATGGACTGGAAT...   \n",
       "Y:56763067-56763979  TGGAAGGGAGTGTAATGCAAGGTTCTCGAAAATAATGGAATCGAAT...   \n",
       "Y:56829118-56830024  TTCCTTTCCTTTCCATTCCATTCCTTTCCATTCCATTCCATGCGAG...   \n",
       "Y:56836309-56837316  CATTGCTTTCCATTGCATTCCATTCCATTCCATTCCACTCCACTCT...   \n",
       "\n",
       "                      GC_cont  \n",
       "peakID                         \n",
       "1:14154-15100        0.585938  \n",
       "1:15698-16677        0.599854  \n",
       "1:17116-17963        0.597168  \n",
       "1:28903-29812        0.489746  \n",
       "1:180637-181553      0.537109  \n",
       "...                       ...  \n",
       "Y:56724332-56725266  0.389404  \n",
       "Y:56727619-56728608  0.391602  \n",
       "Y:56763067-56763979  0.393555  \n",
       "Y:56829118-56830024  0.435059  \n",
       "Y:56836309-56837316  0.474854  \n",
       "\n",
       "[298002 rows x 6 columns]"
      ]
     },
     "execution_count": 52,
     "metadata": {},
     "output_type": "execute_result"
    }
   ],
   "source": [
    "with open('../results/peaks_seq.pkl', 'rb') as file:\n",
    "    seq = pickle.load(file)\n",
    "\n",
    "seq"
   ]
  },
  {
   "cell_type": "markdown",
   "metadata": {},
   "source": [
    "# Add sequence overlapping with CUT&Tag peaks"
   ]
  },
  {
   "cell_type": "code",
   "execution_count": null,
   "metadata": {},
   "outputs": [
    {
     "name": "stderr",
     "output_type": "stream",
     "text": [
      "/Applications/anaconda3/envs/LeKira/lib/python3.10/pty.py:89: RuntimeWarning: os.fork() was called. os.fork() is incompatible with multithreaded code, and JAX is multithreaded, so this will likely lead to a deadlock.\n",
      "  pid, fd = os.forkpty()\n",
      "/Applications/anaconda3/envs/LeKira/lib/python3.10/pty.py:89: RuntimeWarning: os.fork() was called. os.fork() is incompatible with multithreaded code, and JAX is multithreaded, so this will likely lead to a deadlock.\n",
      "  pid, fd = os.forkpty()\n",
      "/Applications/anaconda3/envs/LeKira/lib/python3.10/pty.py:89: RuntimeWarning: os.fork() was called. os.fork() is incompatible with multithreaded code, and JAX is multithreaded, so this will likely lead to a deadlock.\n",
      "  pid, fd = os.forkpty()\n"
     ]
    }
   ],
   "source": [
    "#Open peak pandas dataframe and write to .bed file\n",
    "with open('../results/peaks_seq.pkl', 'rb') as file:\n",
    "    peaks = pickle.load(file)\n",
    "\n",
    "peaks.chr = [\"chr\" + str(c) for c in peaks.chr]\n",
    "peaks[[\"chr\",\"start\",\"end\"]].to_csv('../results/all_peaks.bed', sep=\"\\t\", index=False, header=False)\n",
    "\n",
    "#Compute intersection between genomic regions\n",
    "#-----------------------------------------------\n",
    "\n",
    "#MyoD1\n",
    "!bedtools intersect -a ../results/all_peaks.bed -b ../data/MYOD1_25m_s450.bed -wa > ../results/MyoD1_intersect.bed\n",
    "MYOD1 = pd.read_csv(\"../results/MyoD1_intersect.bed\", header=None, sep= \"\\t\")\n",
    "MYOD1[\"ID\"] = MYOD1[0] + \":\" +  MYOD1[1].astype('str') + \"-\" + MYOD1[2].astype(\"str\")\n",
    "MYOD1[\"ID\"] =  [x[3:] for x in MYOD1.ID]; MYOD1 = MYOD1.ID.tolist()\n",
    "\n",
    "#HES1\n",
    "!bedtools intersect -a ../results/all_peaks.bed -b ../data/HES1_D8_REP1_filt_TFBS_HES1_s400.bed -wa > ../results/HES1_intersect.bed\n",
    "\n",
    "HES1 = pd.read_csv(\"../results/HES1_intersect.bed\", header=None, sep= \"\\t\")\n",
    "HES1[\"ID\"] = HES1[0] + \":\" +  HES1[1].astype('str') + \"-\" + HES1[2].astype(\"str\")\n",
    "HES1[\"ID\"] =  [x[3:] for x in HES1.ID]; HES1 = HES1.ID.tolist()\n",
    "\n",
    "#PAX3\n",
    "!bedtools intersect -a ../results/all_peaks.bed -b ../data/PAX3_D8_REP1_s500.bed  -wa > ../results/PAX3_intersect.bed\n",
    "\n",
    "PAX3 = pd.read_csv(\"../results/PAX3_intersect.bed\", header=None, sep= \"\\t\")\n",
    "PAX3[\"ID\"] = PAX3[0] + \":\" +  PAX3[1].astype('str') + \"-\" + PAX3[2].astype(\"str\")\n",
    "PAX3[\"ID\"] =  [x[3:] for x in PAX3.ID]; PAX3 = PAX3.ID.tolist()\n",
    "\n",
    "TF_peaks = MYOD1 + HES1 + PAX3"
   ]
  },
  {
   "cell_type": "code",
   "execution_count": null,
   "metadata": {},
   "outputs": [
    {
     "data": {
      "text/plain": [
       "12216"
      ]
     },
     "execution_count": 54,
     "metadata": {},
     "output_type": "execute_result"
    }
   ],
   "source": [
    "extra = seq.loc[TF_peaks].sequence.tolist()\n",
    "seq = seq.sample(10000).sequence.tolist() + extra\n",
    "len(seq)"
   ]
  },
  {
   "cell_type": "code",
   "execution_count": null,
   "metadata": {},
   "outputs": [
    {
     "data": {
      "text/plain": [
       "0        GAGGGACTTAGAACATGAGGGACCATCATCTCTGTTCAAATTCACT...\n",
       "1        ACCCTGGGTGGGGATCCTCGGGGCTTCCGGGTGCAGACCTCCCCAC...\n",
       "2        TGTTTTCTCCTCTGGAAAGGAGCATGCAGGTGTGTCTGGCTGAGAC...\n",
       "3        AAAAAAAAAAAGGAACAGTGCTAGAGACAAGTTCAGATAACATCTT...\n",
       "4        TTCTCCTGCCTCAGCCTCCCAAGTAGCAGGAATTACAGACCTGCAC...\n",
       "                               ...                        \n",
       "12211    GGAACTGTTATCATGTTAGAGTAAATTAGATTTCTTGAGGGAAGTG...\n",
       "12212    GGAACTGTTATCATGTTAGAGTAAATTAGATTTCTTGAGGGAAGTG...\n",
       "12213    GGAACTGTTATCATGTTAGAGTAAATTAGATTTCTTGAGGGAAGTG...\n",
       "12214    GGAACTGTTATCATGTTAGAGTAAATTAGATTTCTTGAGGGAAGTG...\n",
       "12215    TGGAAATATTTCATTGCTTGATAGTGGTACAAGTTAATGATTATGT...\n",
       "Length: 12216, dtype: object"
      ]
     },
     "execution_count": 55,
     "metadata": {},
     "output_type": "execute_result"
    }
   ],
   "source": [
    "seq = pd.Series(seq)\n",
    "seq"
   ]
  },
  {
   "cell_type": "markdown",
   "metadata": {},
   "source": [
    "# Compute importance scores"
   ]
  },
  {
   "cell_type": "code",
   "execution_count": null,
   "metadata": {},
   "outputs": [],
   "source": [
    "path_model = '../results/train_res/128_model.pkl'\n",
    "\n",
    "all_c_type = ['Immature', 'Mesenchymal', 'Myoblast', 'Myogenic', 'Neuroblast',\n",
    "       'Neuronal', 'Somite']\n",
    "time_point = [\"D8\", \"D12\", \"D20\", \"D22\"]\n",
    "\n",
    "#Load the model\n",
    "model = CATAC_w_bias(nb_conv=8, nb_filters=128, first_kernel=21, \n",
    "                      rest_kernel=3, out_pred_len=1024, \n",
    "                      nb_pred=4)\n",
    "        \n",
    "model.load_state_dict(torch.load(path_model, map_location=torch.device('cpu')))\n",
    "\n",
    "path_model_bias = \"../data/Tn5_NN_model.h5\"\n",
    "\n",
    "#Compute attribution scores\n",
    "seq, shap_scores, proj_scores = compute_importance_score_bias(model, path_model_bias, seq, device, \"Myogenic\", all_c_type, 1)"
   ]
  },
  {
   "cell_type": "code",
   "execution_count": null,
   "metadata": {},
   "outputs": [],
   "source": [
    "#Save encoded seq + scores\n",
    "np.savez('../results/encod_seq.npz', seq[:,:4,:])\n",
    "np.savez('../results/seq_scores.npz', shap_scores[:,:4,:], proj_scores[:,:4,:])\n",
    "\n",
    "print(\"Shap scores saved!\")"
   ]
  },
  {
   "cell_type": "code",
   "execution_count": null,
   "metadata": {},
   "outputs": [],
   "source": [
    "seq = np.load('../results/encod_seq.npz')[\"arr_0\"]\n",
    "shap_scores = np.load('../results/seq_scores.npz')\n",
    "proj_scores = shap_scores['arr_1']; shap_scores = shap_scores['arr_0']"
   ]
  },
  {
   "cell_type": "markdown",
   "metadata": {},
   "source": [
    "# Visualize few examples"
   ]
  },
  {
   "cell_type": "code",
   "execution_count": null,
   "metadata": {},
   "outputs": [],
   "source": [
    "visualize_sequence_imp(proj_scores[[73],:4,:] ,0, 4096)\n",
    "visualize_sequence_imp(proj_scores[[1266],:4,:] ,0, 4096)\n",
    "visualize_sequence_imp(proj_scores[[563],:4,:] ,0, 4096)"
   ]
  },
  {
   "cell_type": "markdown",
   "metadata": {},
   "source": [
    "# Use TF-modisco to find TFBS\n",
    "Following tutorial at: https://github.com/jmschrei/tfmodisco-lite/blob/main/examples/ModiscoDemonstration.ipynb"
   ]
  },
  {
   "cell_type": "code",
   "execution_count": null,
   "metadata": {},
   "outputs": [],
   "source": [
    "!modisco motifs -s  ../results/encod_seq.npz -a  ../results/seq_scores.npz -n 2000 -o modisco_results.h5"
   ]
  },
  {
   "cell_type": "code",
   "execution_count": null,
   "metadata": {},
   "outputs": [],
   "source": [
    "!modisco report -i modisco_results.h5 -o report/"
   ]
  },
  {
   "cell_type": "code",
   "execution_count": null,
   "metadata": {},
   "outputs": [],
   "source": [
    "from IPython.display import HTML\n",
    "HTML('report/motifs.html')"
   ]
  },
  {
   "cell_type": "markdown",
   "metadata": {},
   "source": [
    "# Run TOMTOM on modisco results"
   ]
  },
  {
   "cell_type": "code",
   "execution_count": null,
   "metadata": {},
   "outputs": [],
   "source": [
    "!modisco report -i modisco_results.h5 -o report/TOMTOM/ -s report/TOMTOM/ -m ../data/JASPAR_motif.txt"
   ]
  },
  {
   "cell_type": "code",
   "execution_count": null,
   "metadata": {},
   "outputs": [],
   "source": [
    "from IPython.display import HTML\n",
    "\n",
    "HTML('report/motifs.html')"
   ]
  }
 ],
 "metadata": {
  "kernelspec": {
   "display_name": "LeKira",
   "language": "python",
   "name": "python3"
  },
  "language_info": {
   "codemirror_mode": {
    "name": "ipython",
    "version": 3
   },
   "file_extension": ".py",
   "mimetype": "text/x-python",
   "name": "python",
   "nbconvert_exporter": "python",
   "pygments_lexer": "ipython3",
   "version": "3.10.12"
  }
 },
 "nbformat": 4,
 "nbformat_minor": 2
}
