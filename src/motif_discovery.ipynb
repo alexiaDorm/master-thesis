{
 "cells": [
  {
   "cell_type": "code",
   "execution_count": 2,
   "metadata": {},
   "outputs": [],
   "source": [
    "%load_ext autoreload\n",
    "%autoreload 2"
   ]
  },
  {
   "cell_type": "code",
   "execution_count": 3,
   "metadata": {},
   "outputs": [],
   "source": [
    "import numpy as np\n",
    "import pandas as pd\n",
    "import torch\n",
    "import glob\n",
    "import pickle\n",
    "import matplotlib.pyplot as plt\n",
    "\n",
    "from interpretation.interpret import compute_importance_score_c_type, compute_importance_score_bias, visualize_sequence_imp\n",
    "from models.models import CATAC2, CATAC_w_bias\n",
    "\n",
    "device = torch.device(\"cuda:0\" if torch.cuda.is_available() else \"cpu\")"
   ]
  },
  {
   "cell_type": "markdown",
   "metadata": {},
   "source": [
    "# Sample from peak sequences"
   ]
  },
  {
   "cell_type": "code",
   "execution_count": 6,
   "metadata": {},
   "outputs": [
    {
     "data": {
      "text/html": [
       "<div>\n",
       "<style scoped>\n",
       "    .dataframe tbody tr th:only-of-type {\n",
       "        vertical-align: middle;\n",
       "    }\n",
       "\n",
       "    .dataframe tbody tr th {\n",
       "        vertical-align: top;\n",
       "    }\n",
       "\n",
       "    .dataframe thead th {\n",
       "        text-align: right;\n",
       "    }\n",
       "</style>\n",
       "<table border=\"1\" class=\"dataframe\">\n",
       "  <thead>\n",
       "    <tr style=\"text-align: right;\">\n",
       "      <th></th>\n",
       "      <th>chr</th>\n",
       "      <th>start</th>\n",
       "      <th>end</th>\n",
       "      <th>middle_peak</th>\n",
       "      <th>sequence</th>\n",
       "      <th>GC_cont</th>\n",
       "    </tr>\n",
       "    <tr>\n",
       "      <th>peakID</th>\n",
       "      <th></th>\n",
       "      <th></th>\n",
       "      <th></th>\n",
       "      <th></th>\n",
       "      <th></th>\n",
       "      <th></th>\n",
       "    </tr>\n",
       "  </thead>\n",
       "  <tbody>\n",
       "    <tr>\n",
       "      <th>13:18211588-18212586</th>\n",
       "      <td>13</td>\n",
       "      <td>18211588</td>\n",
       "      <td>18212586</td>\n",
       "      <td>18212087</td>\n",
       "      <td>AAGACTCTGAGAAAAACTGTAAATTAAACACAAATATGGTGGAAGC...</td>\n",
       "      <td>0.347412</td>\n",
       "    </tr>\n",
       "    <tr>\n",
       "      <th>13:18212943-18213672</th>\n",
       "      <td>13</td>\n",
       "      <td>18212943</td>\n",
       "      <td>18213672</td>\n",
       "      <td>18213308</td>\n",
       "      <td>GGTACATACAGACCATTGAATACTATGCAGCCACAAAAAAGAATAA...</td>\n",
       "      <td>0.295654</td>\n",
       "    </tr>\n",
       "    <tr>\n",
       "      <th>13:19587105-19588284</th>\n",
       "      <td>13</td>\n",
       "      <td>19587105</td>\n",
       "      <td>19588284</td>\n",
       "      <td>19587694</td>\n",
       "      <td>AAGGAAGTTATACAAAAAAACAATTTTGGGTGAGGTTGTTATCTAG...</td>\n",
       "      <td>0.452148</td>\n",
       "    </tr>\n",
       "    <tr>\n",
       "      <th>13:19597289-19598094</th>\n",
       "      <td>13</td>\n",
       "      <td>19597289</td>\n",
       "      <td>19598094</td>\n",
       "      <td>19597692</td>\n",
       "      <td>CAAACAGTCACCTGGAGCAGAGAGGTCAGTGTGTTTACGTGTTTCC...</td>\n",
       "      <td>0.466309</td>\n",
       "    </tr>\n",
       "    <tr>\n",
       "      <th>13:19601665-19602525</th>\n",
       "      <td>13</td>\n",
       "      <td>19601665</td>\n",
       "      <td>19602525</td>\n",
       "      <td>19602095</td>\n",
       "      <td>TTAGTAGAGAAGGGGTTTCACCATGTGTTGGTCAGGCTGGTCTCCA...</td>\n",
       "      <td>0.529541</td>\n",
       "    </tr>\n",
       "    <tr>\n",
       "      <th>...</th>\n",
       "      <td>...</td>\n",
       "      <td>...</td>\n",
       "      <td>...</td>\n",
       "      <td>...</td>\n",
       "      <td>...</td>\n",
       "      <td>...</td>\n",
       "    </tr>\n",
       "    <tr>\n",
       "      <th>6:170553912-170554797</th>\n",
       "      <td>6</td>\n",
       "      <td>170553912</td>\n",
       "      <td>170554797</td>\n",
       "      <td>170554354</td>\n",
       "      <td>TTCAATTTACAGCTCTTCCCTGTCAAGAGTCTTAAACAGAGCATCT...</td>\n",
       "      <td>0.453369</td>\n",
       "    </tr>\n",
       "    <tr>\n",
       "      <th>6:170574897-170575869</th>\n",
       "      <td>6</td>\n",
       "      <td>170574897</td>\n",
       "      <td>170575869</td>\n",
       "      <td>170575383</td>\n",
       "      <td>TGTAAAAGTACATCTTCAGCTGACTCAGGAATAAAATCAGAAAGGG...</td>\n",
       "      <td>0.375244</td>\n",
       "    </tr>\n",
       "    <tr>\n",
       "      <th>6:170584150-170585077</th>\n",
       "      <td>6</td>\n",
       "      <td>170584150</td>\n",
       "      <td>170585077</td>\n",
       "      <td>170584614</td>\n",
       "      <td>TGCTGGATAAATGTTGGCTACTATAATAAAATAAGCCTCTAAGATA...</td>\n",
       "      <td>0.483154</td>\n",
       "    </tr>\n",
       "    <tr>\n",
       "      <th>6:170596247-170597169</th>\n",
       "      <td>6</td>\n",
       "      <td>170596247</td>\n",
       "      <td>170597169</td>\n",
       "      <td>170596708</td>\n",
       "      <td>CAGGGGGTCCTCAGGATCCTCCTGGAATCTCTTCCTCAGCATCTGG...</td>\n",
       "      <td>0.416992</td>\n",
       "    </tr>\n",
       "    <tr>\n",
       "      <th>6:170608859-170609710</th>\n",
       "      <td>6</td>\n",
       "      <td>170608859</td>\n",
       "      <td>170609710</td>\n",
       "      <td>170609284</td>\n",
       "      <td>GGCATATTCTGGTTTCCTACCATTATATTTTGGGGTGGCATATTTT...</td>\n",
       "      <td>0.453613</td>\n",
       "    </tr>\n",
       "  </tbody>\n",
       "</table>\n",
       "<p>32607 rows × 6 columns</p>\n",
       "</div>"
      ],
      "text/plain": [
       "                      chr      start        end  middle_peak  \\\n",
       "peakID                                                         \n",
       "13:18211588-18212586   13   18211588   18212586     18212087   \n",
       "13:18212943-18213672   13   18212943   18213672     18213308   \n",
       "13:19587105-19588284   13   19587105   19588284     19587694   \n",
       "13:19597289-19598094   13   19597289   19598094     19597692   \n",
       "13:19601665-19602525   13   19601665   19602525     19602095   \n",
       "...                    ..        ...        ...          ...   \n",
       "6:170553912-170554797   6  170553912  170554797    170554354   \n",
       "6:170574897-170575869   6  170574897  170575869    170575383   \n",
       "6:170584150-170585077   6  170584150  170585077    170584614   \n",
       "6:170596247-170597169   6  170596247  170597169    170596708   \n",
       "6:170608859-170609710   6  170608859  170609710    170609284   \n",
       "\n",
       "                                                                sequence  \\\n",
       "peakID                                                                     \n",
       "13:18211588-18212586   AAGACTCTGAGAAAAACTGTAAATTAAACACAAATATGGTGGAAGC...   \n",
       "13:18212943-18213672   GGTACATACAGACCATTGAATACTATGCAGCCACAAAAAAGAATAA...   \n",
       "13:19587105-19588284   AAGGAAGTTATACAAAAAAACAATTTTGGGTGAGGTTGTTATCTAG...   \n",
       "13:19597289-19598094   CAAACAGTCACCTGGAGCAGAGAGGTCAGTGTGTTTACGTGTTTCC...   \n",
       "13:19601665-19602525   TTAGTAGAGAAGGGGTTTCACCATGTGTTGGTCAGGCTGGTCTCCA...   \n",
       "...                                                                  ...   \n",
       "6:170553912-170554797  TTCAATTTACAGCTCTTCCCTGTCAAGAGTCTTAAACAGAGCATCT...   \n",
       "6:170574897-170575869  TGTAAAAGTACATCTTCAGCTGACTCAGGAATAAAATCAGAAAGGG...   \n",
       "6:170584150-170585077  TGCTGGATAAATGTTGGCTACTATAATAAAATAAGCCTCTAAGATA...   \n",
       "6:170596247-170597169  CAGGGGGTCCTCAGGATCCTCCTGGAATCTCTTCCTCAGCATCTGG...   \n",
       "6:170608859-170609710  GGCATATTCTGGTTTCCTACCATTATATTTTGGGGTGGCATATTTT...   \n",
       "\n",
       "                        GC_cont  \n",
       "peakID                           \n",
       "13:18211588-18212586   0.347412  \n",
       "13:18212943-18213672   0.295654  \n",
       "13:19587105-19588284   0.452148  \n",
       "13:19597289-19598094   0.466309  \n",
       "13:19601665-19602525   0.529541  \n",
       "...                         ...  \n",
       "6:170553912-170554797  0.453369  \n",
       "6:170574897-170575869  0.375244  \n",
       "6:170584150-170585077  0.483154  \n",
       "6:170596247-170597169  0.416992  \n",
       "6:170608859-170609710  0.453613  \n",
       "\n",
       "[32607 rows x 6 columns]"
      ]
     },
     "execution_count": 6,
     "metadata": {},
     "output_type": "execute_result"
    }
   ],
   "source": [
    "with open('../results/peaks_seq.pkl', 'rb') as file:\n",
    "    seq = pickle.load(file)\n",
    "\n",
    "seq = seq[seq.chr.isin(['6','13', '22'])].sequence\n",
    "seq"
   ]
  },
  {
   "cell_type": "markdown",
   "metadata": {},
   "source": [
    "# Compute importance scores"
   ]
  },
  {
   "cell_type": "code",
   "execution_count": null,
   "metadata": {},
   "outputs": [],
   "source": [
    "path_model = '../results/train_res/128_10_model.pkl'\n",
    "\n",
    "all_c_type = ['Immature', 'Mesenchymal', 'Myoblast', 'Myogenic', 'Neuroblast',\n",
    "       'Neuronal', 'Somite']\n",
    "time_point = [\"D8\", \"D12\", \"D20\", \"D22\"]\n",
    "\n",
    "first_kernel = 21\n",
    "nb_conv = 10\n",
    "size_final_conv = 4096 - (first_kernel - 1)\n",
    "cropped = [2**l for l in range(0,nb_conv-1)] * (2*(3-1))\n",
    "\n",
    "for c in cropped:\n",
    "       size_final_conv -= c\n",
    "\n",
    "#Load the model\n",
    "model = CATAC_w_bias(nb_conv=10, nb_filters=128, first_kernel=21, \n",
    "                      rest_kernel=3, out_pred_len=1024, \n",
    "                      nb_pred=4, size_final_conv=size_final_conv)\n",
    "        \n",
    "model.load_state_dict(torch.load(path_model, map_location=torch.device('cpu')))\n",
    "\n",
    "path_model_bias = \"../data/Tn5_NN_model.h5\"\n",
    "\n",
    "#Compute attribution scores\n",
    "seq, shap_scores, proj_scores = compute_importance_score_bias(model, path_model_bias, seq, device, \"Myogenic\", all_c_type, 1)"
   ]
  },
  {
   "cell_type": "code",
   "execution_count": null,
   "metadata": {},
   "outputs": [],
   "source": [
    "#Save encoded seq + scores\n",
    "np.savez('../results/encod_seq.npz', seq[:,:4,:])\n",
    "np.savez('../results/seq_scores.npz', shap_scores[:,:4,:], proj_scores[:,:4,:])\n",
    "\n",
    "print(\"Shap scores saved!\")"
   ]
  },
  {
   "cell_type": "code",
   "execution_count": null,
   "metadata": {},
   "outputs": [],
   "source": [
    "seq = np.load('../results/encod_seq.npz')[\"arr_0\"]\n",
    "shap_scores = np.load('../results/seq_scores.npz')\n",
    "proj_scores = shap_scores['arr_1']; shap_scores = shap_scores['arr_0']"
   ]
  },
  {
   "cell_type": "markdown",
   "metadata": {},
   "source": [
    "# Visualize few examples"
   ]
  },
  {
   "cell_type": "code",
   "execution_count": null,
   "metadata": {},
   "outputs": [],
   "source": [
    "visualize_sequence_imp(proj_scores[[73],:4,:] ,0, 4096)\n",
    "visualize_sequence_imp(proj_scores[[1266],:4,:] ,0, 4096)\n",
    "visualize_sequence_imp(proj_scores[[563],:4,:] ,0, 4096)"
   ]
  },
  {
   "cell_type": "markdown",
   "metadata": {},
   "source": [
    "# Use TF-modisco to find TFBS\n",
    "Following tutorial at: https://github.com/jmschrei/tfmodisco-lite/blob/main/examples/ModiscoDemonstration.ipynb"
   ]
  },
  {
   "cell_type": "code",
   "execution_count": null,
   "metadata": {},
   "outputs": [],
   "source": [
    "!modisco motifs -s  ../results/encod_seq.npz -a  ../results/seq_scores.npz -n 2000 -o modisco_results.h5"
   ]
  },
  {
   "cell_type": "code",
   "execution_count": null,
   "metadata": {},
   "outputs": [],
   "source": [
    "!modisco report -i modisco_results.h5 -o report/"
   ]
  },
  {
   "cell_type": "code",
   "execution_count": null,
   "metadata": {},
   "outputs": [],
   "source": [
    "from IPython.display import HTML\n",
    "HTML('report/motifs.html')"
   ]
  },
  {
   "cell_type": "markdown",
   "metadata": {},
   "source": [
    "# Run TOMTOM on modisco results"
   ]
  },
  {
   "cell_type": "code",
   "execution_count": null,
   "metadata": {},
   "outputs": [],
   "source": [
    "!modisco report -i modisco_results.h5 -o report/TOMTOM/ -s report/TOMTOM/ -m ../data/JASPAR_motif.txt"
   ]
  },
  {
   "cell_type": "code",
   "execution_count": null,
   "metadata": {},
   "outputs": [],
   "source": [
    "from IPython.display import HTML\n",
    "\n",
    "HTML('report/motifs.html')"
   ]
  }
 ],
 "metadata": {
  "kernelspec": {
   "display_name": "LeKira",
   "language": "python",
   "name": "python3"
  },
  "language_info": {
   "codemirror_mode": {
    "name": "ipython",
    "version": 3
   },
   "file_extension": ".py",
   "mimetype": "text/x-python",
   "name": "python",
   "nbconvert_exporter": "python",
   "pygments_lexer": "ipython3",
   "version": "3.10.12"
  }
 },
 "nbformat": 4,
 "nbformat_minor": 2
}
