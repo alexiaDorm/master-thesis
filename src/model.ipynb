{
 "cells": [
  {
   "cell_type": "code",
   "execution_count": 10,
   "metadata": {},
   "outputs": [],
   "source": [
    "import torch\n",
    "from torch.utils.data import Dataset, DataLoader\n",
    "import pickle\n",
    "import numpy as np\n",
    "\n",
    "def one_hot_encode(seq):\n",
    "    mapping = dict(zip(\"ACGT\", range(4)))    \n",
    "    seq2 = [mapping[i] for i in seq]\n",
    "    return np.eye(4, dtype=np.int8)[seq2]\n",
    "\n",
    "class BiasDataset(Dataset):\n",
    "    \"\"\"Background sequences for bias model training\"\"\"\n",
    "\n",
    "    def __init__(self, path_sequences, path_ATAC_signal):\n",
    "        \"\"\"\n",
    "        Arguments:\n",
    "            path_sequences (string): Path to the pickle file with background regions sequences\n",
    "            path_ATAC_signal (string): Path to the pickle file with ATAC tracks per datasets and time points\n",
    "\n",
    "        \"\"\"\n",
    "        with open(path_sequences, 'rb') as file:\n",
    "            self.sequences = pickle.load(file).sequence\n",
    "\n",
    "        #Encode sequences\n",
    "        self.sequences = self.sequences.apply(lambda x: one_hot_encode(x))\n",
    "\n",
    "        with open(path_ATAC_signal, 'rb') as file:\n",
    "            self.ATAC_track = pickle.load(file)\n",
    "            self.ATAC_track.time = self.ATAC_track.time.astype('category')\n",
    "            self.ATAC_track.cell_type = self.ATAC_track.cell_type.astype('category')\n",
    "\n",
    "    def __len__(self):\n",
    "        return self.ATAC_track.shape[0]\n",
    "\n",
    "    def __getitem__(self, idx):\n",
    "        \n",
    "        track = self.ATAC_track.iloc[idx,0]\n",
    "        time = self.ATAC_track.iloc[idx,:].time\n",
    "        cell_type = self.ATAC_track.iloc[idx,:].cell_type\n",
    "\n",
    "        input = self.sequences[self.ATAC_track.index[idx]]\n",
    "\n",
    "        return input, time, cell_type, track\n"
   ]
  },
  {
   "cell_type": "code",
   "execution_count": 11,
   "metadata": {},
   "outputs": [],
   "source": [
    "dataset = BiasDataset('../results/peaks_seq.pkl', '../results/ATAC_peaks.pkl')\n",
    "dataloader = DataLoader(dataset, batch_size=32,\n",
    "                        shuffle=True, num_workers=0)"
   ]
  },
  {
   "cell_type": "code",
   "execution_count": 12,
   "metadata": {},
   "outputs": [
    {
     "name": "stderr",
     "output_type": "stream",
     "text": [
      "  0%|          | 0/24960 [00:01<?, ?it/s]"
     ]
    },
    {
     "name": "stdout",
     "output_type": "stream",
     "text": [
      "tensor([[0, 1, 0, 0],\n",
      "        [0, 0, 1, 0],\n",
      "        [0, 0, 1, 0],\n",
      "        ...,\n",
      "        [0, 0, 0, 1],\n",
      "        [0, 0, 0, 1],\n",
      "        [1, 0, 0, 0]], dtype=torch.int8)\n"
     ]
    },
    {
     "name": "stderr",
     "output_type": "stream",
     "text": [
      "\n"
     ]
    }
   ],
   "source": [
    "from tqdm import tqdm\n",
    "\n",
    "for data in tqdm(dataloader): \n",
    "    inputs, time, cell_type, tracks = data \n",
    "    print(inputs[0])\n",
    "    break"
   ]
  },
  {
   "cell_type": "code",
   "execution_count": 45,
   "metadata": {},
   "outputs": [],
   "source": [
    "import torch \n",
    "import torch.nn as nn\n",
    "import torch.nn.functional as F\n",
    "\n",
    "class BPNet(nn.Module):\n",
    "    def __init__(self, nb_conv=8, nb_filters=64, first_kernel=21, rest_kernel=3, profile_kernel_size=75, out_pred_len=1000):\n",
    "        super().__init__()\n",
    "        \"\"\" BPNet architechture as in paper \n",
    "        \n",
    "        Parameters\n",
    "        -----------\n",
    "        nb_conv: int (default 8)\n",
    "            number of convolutional layers\n",
    "\n",
    "        nb_filters: int (default 64)\n",
    "            number of filters in the convolutional layers\n",
    "\n",
    "        first_kernel: int (default 25)\n",
    "            size of the kernel in the first convolutional layer\n",
    "\n",
    "        rest_kernel: int (default 3)\n",
    "            size of the kernel in all convolutional layers except the first one\n",
    "\n",
    "        profile_kernel_size: int (default 75)\n",
    "            size of the kernel in the profile convolution\n",
    "\n",
    "        out_pred_len: int (default 1000)\n",
    "            number of bp for which ATAC signal is predicted\n",
    "\n",
    "        Model Architecture \n",
    "        ------------------------\n",
    "\n",
    "        - Body: sequence of convolutional layers with residual skip connections, dilated convolutions, \n",
    "        and  ReLU activation functions\n",
    "\n",
    "        - Head: \n",
    "            > Profile prediction head: a multinomial probability of Tn5 insertion counts at each position \n",
    "            in the input sequence, deconvolution layer\n",
    "            > Total count prediction: the total Tn5 insertion counts over the input region, global average\n",
    "            poooling and linear layer predicting the total count per strand\n",
    "        \n",
    "        The predicted (expected) count at a specific position is a multiplication of the predicted total \n",
    "        counts and the multinomial probability at that position.\n",
    "\n",
    "        -------------------------\n",
    "        \n",
    "        Reference: Avsec, Ž., Weilert, M., Shrikumar, A. et al. Base-resolution models of transcription-factor binding \n",
    "        reveal soft motif syntax. Nat Genet 53, 354–366 (2021). https://doi.org/10.1038/s41588-021-00782-6\n",
    "\n",
    "        \n",
    "        \"\"\"\n",
    "        #Define parameters\n",
    "        self.nb_conv = nb_conv\n",
    "        self.nb_filters = nb_filters\n",
    "        self.first_kernel = first_kernel\n",
    "        self.rest_kernel = rest_kernel\n",
    "        self.profile_kernel = profile_kernel_size\n",
    "        self.out_pred_len = out_pred_len\n",
    "\n",
    "        #Convolutional layers\n",
    "        self.convlayers = nn.ModuleList()\n",
    "\n",
    "        self.convlayers.append(nn.Conv1d(in_channels=4, \n",
    "                                         out_channels=self.nb_filters,\n",
    "                                         kernel_size=self.first_kernel))\n",
    "        for i in range (1,self.nb_conv):\n",
    "            self.convlayers.append(nn.Conv1d(in_channels=self.nb_filters, \n",
    "                                         out_channels=self.nb_filters,\n",
    "                                         kernel_size=self.rest_kernel,\n",
    "                                         dilation=2**i))\n",
    "        #Profile prediction head   \n",
    "        self.profile_conv = nn.ConvTranspose1d(self.nb_filters, 1, kernel_size=self.profile_kernel)\n",
    "        self.flatten = nn.Flatten()\n",
    "\n",
    "        #Total count prediction head\n",
    "        self.global_pool = nn.AdaptiveAvgPool1d(1)\n",
    "        self.linear = nn.Linear(self.nb_filters,1)\n",
    "\n",
    "            \n",
    "    def forward(self,x):\n",
    "        \n",
    "        #Residual + Dilated convolution layers\n",
    "        #-----------------------------------------------\n",
    "        x = F.relu(self.convlayers[0](x))\n",
    "\n",
    "        for layer in self.convlayers[1:]:\n",
    "            \n",
    "            conv_x = F.relu(layer(x))\n",
    "\n",
    "            #Crop output previous layer to size of current \n",
    "            x_len = x.size(2); conv_x_len = conv_x.size(2)\n",
    "            cropsize = (x_len - conv_x_len) // 2\n",
    "            x = x[:, :, cropsize:-cropsize] \n",
    "\n",
    "            #Skipped connection\n",
    "            x = conv_x + x    \n",
    "\n",
    "        #Profile head\n",
    "        #-----------------------------------------------\n",
    "        profile = self.profile_conv(x)\n",
    "        \n",
    "        cropsize = int((profile.size(2)/2) - (self.out_pred_len/2))\n",
    "        profile = profile[:,:, cropsize:-cropsize]\n",
    "        \n",
    "        profile = self.flatten(profile)\n",
    "\n",
    "        #Total count head\n",
    "        #-----------------------------------------------\n",
    "        count = self.global_pool(x)  \n",
    "        count = count.squeeze()\n",
    "        count = self.linear(count)\n",
    "\n",
    "        return x, profile, count"
   ]
  },
  {
   "cell_type": "markdown",
   "metadata": {},
   "source": [
    "The model predicts the base-resolution 1,000 bp length Tn5 insertion count profile using two complementary outputs: (1) the total Tn5 insertion counts over the 1,000 bp region, and (2) a multinomial probability of Tn5 insertion counts at each position in the 1,000 bp sequence. The predicted (expected) count at a specific position is a multiplication of the predicted total counts and the multinomial probability at that position."
   ]
  },
  {
   "cell_type": "code",
   "execution_count": 47,
   "metadata": {},
   "outputs": [
    {
     "data": {
      "text/plain": [
       "tensor([[-4.9177e+00, -4.1933e+00, -4.1938e+00,  ..., -6.8152e+00,\n",
       "         -2.7607e+00, -1.0761e+01],\n",
       "        [-8.8051e+00, -9.7412e-01, -5.7450e+00,  ..., -5.6425e+00,\n",
       "         -3.1305e+00, -5.7297e+00],\n",
       "        [-3.5067e+00, -4.0354e+00, -9.2691e+00,  ..., -6.7895e+00,\n",
       "         -1.0056e+01, -4.8932e+00],\n",
       "        ...,\n",
       "        [-2.6666e+00, -1.8417e+00, -6.3831e+00,  ..., -7.5926e+00,\n",
       "         -7.9752e+00, -3.2860e+00],\n",
       "        [-5.9738e+00, -1.1024e+01, -6.0759e+00,  ..., -7.0113e+00,\n",
       "         -1.0954e+01, -4.0736e+00],\n",
       "        [ 2.6391e-03, -2.6899e+00, -4.6821e+00,  ..., -6.7192e+00,\n",
       "         -1.1125e+00, -7.1009e+00]], grad_fn=<ReshapeAliasBackward0>)"
      ]
     },
     "execution_count": 47,
     "metadata": {},
     "output_type": "execute_result"
    }
   ],
   "source": [
    "m = BPNet()\n",
    "input = torch.randn(32, 4, 2114)\n",
    "x, profile, count = m(input)\n",
    "\n",
    "profile"
   ]
  },
  {
   "cell_type": "markdown",
   "metadata": {},
   "source": [
    "BPNet uses a composite loss function consisting of a linear combination of a mean squared error (MSE) loss on the log of the total counts and a multinomial negative log likelihood loss (MNLL) for the profile probability output. We use a weight of [4.9, 4.3, 18.5, 9.8, 8.9, 4.8, 4.6, 4.9, 12.4, 15.4, 4.3, 6.3, 1.4, 2.6, 7.6, 2.3, 16.3, 7.1 & 3.7] for the MSE loss for clusters c0–c20 (c15-c16 combined as one model), and a weight of 1 for the MNLL loss in the linear combination. The MSE loss weight is derived as the median of total counts across all peak regions for each cluster divided by a factor of 10 "
   ]
  },
  {
   "cell_type": "code",
   "execution_count": null,
   "metadata": {},
   "outputs": [],
   "source": [
    "#Custom losses functions\n",
    "import torch.distributions as dist\n",
    "\n",
    "class MultinomialNLLLoss(nn.Module):\n",
    "    def __init__(self):\n",
    "        super(self).__init__()\n",
    "\n",
    "    def forward(self, true_counts, logits):\n",
    "        counts_per_example = torch.sum(true_counts, dim=1)\n",
    "        dist = dist.multinomial.Multinomial(total_count=counts_per_example, logits=logits)\n",
    "\n",
    "        return (-torch.sum(dist.log_prob(true_counts)))/float(true_counts.shape[0])\n"
   ]
  },
  {
   "cell_type": "code",
   "execution_count": null,
   "metadata": {},
   "outputs": [],
   "source": [
    "def train(model, criterion, optimizer, num_epochs, dataloader):\n",
    "    \n",
    "    for epoch in range(num_epochs):\n",
    "        model.train() \n",
    "        running_loss = 0\n",
    "\n",
    "        for data in tqdm(dataloader):\n",
    "            inputs, time, cell_type, tracks = data  \n",
    "\n",
    "            optimizer.zero_grad()\n",
    "\n",
    "            outputs = model(inputs)\n",
    "            \n",
    "            loss = criterion(outputs, tracks)\n",
    "\n",
    "            loss.backward()\n",
    "            optimizer.step()\n",
    "\n",
    "            running_loss += loss.item()\n",
    "\n",
    "        epoch_loss = running_loss / len(dataloader)\n",
    "        print(f'Epoch [{epoch + 1}/{num_epochs}], Loss: {epoch_loss:.4f}')\n",
    "\n",
    "    print('Finished Training')"
   ]
  },
  {
   "cell_type": "code",
   "execution_count": null,
   "metadata": {},
   "outputs": [],
   "source": []
  }
 ],
 "metadata": {
  "kernelspec": {
   "display_name": "LeKIra",
   "language": "python",
   "name": "python3"
  },
  "language_info": {
   "codemirror_mode": {
    "name": "ipython",
    "version": 3
   },
   "file_extension": ".py",
   "mimetype": "text/x-python",
   "name": "python",
   "nbconvert_exporter": "python",
   "pygments_lexer": "ipython3",
   "version": "3.11.8"
  }
 },
 "nbformat": 4,
 "nbformat_minor": 2
}
